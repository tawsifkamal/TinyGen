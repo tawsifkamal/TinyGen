{
 "cells": [
  {
   "cell_type": "code",
   "execution_count": 222,
   "metadata": {},
   "outputs": [],
   "source": [
    "# prompt = r\"\"\"\n",
    "# THe program doesn't output anything in windows 10.\n",
    "# (base) C:\\Users\\off99\\Documents\\Code\\>llm list files in current dir; windows\n",
    "# / Querying GPT-3200\n",
    "# ───────┬────────────────────────────────────────────────────────────────────────────────────────────────────────────────\n",
    "#        │ File: temp.sh\n",
    "# ───────┼────────────────────────────────────────────────────────────────────────────────────────────────────────────────\n",
    "#    1   │\n",
    "#    2   │ dir\n",
    "#    3   │ ```\n",
    "# ───────┴────────────────────────────────────────────────────────────────────────────────────────────────────────────────\n",
    "# >> Do you want to run this program? [Y/n] y\n",
    "\n",
    "# Running...\n",
    "\n",
    "\n",
    "# (base) C:\\Users\\off99\\Documents\\Code\\>\n",
    "# Notice that there is no output. Is this supposed to work on Windows also?\n",
    "# Also it might be great if the script detects which OS or shell I'm using and try to use the appropriate command e.g. dir instead of ls because I don't want to be adding windows after every prompt.\n",
    "# \"\"\"\n",
    "# repo_url = \"https://github.com/jayhack/llm.sh\"\n",
    "\n",
    "\n",
    "# prompt = \"convert project to typescript\"\n",
    "# repo_url = \"https://github.com/andrewagain/calculator\"\n",
    "\n",
    "\n",
    "prompt = \"\"\" \n",
    "I just created a new project! It is called Tiny Gen. Is it possible to add this project to portfolio site? \n",
    "Tiny Gen is basically an application that can add code to a repository given a user prompt. Basically, you give a repoUrl and the prompt,\n",
    "Tiny Gen is able to locate the file to modify and modifies it! It then returns a unified diff showing the correct changes. \n",
    "\n",
    "I'll upload the links, images and other information later.\n",
    "\"\"\"\n",
    "repo_url = \"https://github.com/tawsifkamal/portfolio-site\"\n"
   ]
  },
  {
   "cell_type": "code",
   "execution_count": 240,
   "metadata": {},
   "outputs": [
    {
     "name": "stderr",
     "output_type": "stream",
     "text": [
      "2024-03-02 18:14:01,177:INFO - HTTP Request: GET https://pzgzqbmlwjfvjtsziwdb.supabase.co/rest/v1/tiny_gen_two_calls?select=%2A \"HTTP/1.1 200 OK\"\n"
     ]
    },
    {
     "data": {
      "text/plain": [
       "'{\"data\":[],\"count\":null}'"
      ]
     },
     "execution_count": 240,
     "metadata": {},
     "output_type": "execute_result"
    }
   ],
   "source": [
    "from db import fetch_all_calls\n",
    "from db import insert_to_supabase\n",
    "\n",
    "fetch_all_calls(\"tiny_gen_two_calls\")"
   ]
  },
  {
   "cell_type": "markdown",
   "metadata": {},
   "source": [
    "### Tiny Gen 1.0: Works for Repos that fit in the context\n",
    "1. **Code Conversion Chain** -> Given prompt and all of files in the github repo, generate the code that would address the prompt given\n",
    "\n",
    "2. **Generate Diff Chain** -> Generate the diff from the modified code versus the original file\n",
    "\n",
    "2. **Reflection Chain** -> Given the generated diff, check that the diff is correct and return a new diff if incorrect\n"
   ]
  },
  {
   "cell_type": "code",
   "execution_count": 225,
   "metadata": {},
   "outputs": [
    {
     "name": "stdout",
     "output_type": "stream",
     "text": [
      "CURRENT RATE LIMIT FOR GITHUB API CALLS >>>>>>>>>>> {'resources': {'core': {'limit': 5000, 'used': 301, 'remaining': 4699, 'reset': 1709419058}, 'search': {'limit': 30, 'used': 0, 'remaining': 30, 'reset': 1709418565}, 'graphql': {'limit': 5000, 'used': 0, 'remaining': 5000, 'reset': 1709422105}, 'integration_manifest': {'limit': 5000, 'used': 0, 'remaining': 5000, 'reset': 1709422105}, 'source_import': {'limit': 100, 'used': 0, 'remaining': 100, 'reset': 1709418565}, 'code_scanning_upload': {'limit': 1000, 'used': 0, 'remaining': 1000, 'reset': 1709422105}, 'actions_runner_registration': {'limit': 10000, 'used': 0, 'remaining': 10000, 'reset': 1709422105}, 'scim': {'limit': 15000, 'used': 0, 'remaining': 15000, 'reset': 1709422105}, 'dependency_snapshots': {'limit': 100, 'used': 0, 'remaining': 100, 'reset': 1709418565}, 'audit_log': {'limit': 1750, 'used': 0, 'remaining': 1750, 'reset': 1709422105}, 'code_search': {'limit': 10, 'used': 0, 'remaining': 10, 'reset': 1709418565}}, 'rate': {'limit': 5000, 'used': 301, 'remaining': 4699, 'reset': 1709419058}}\n",
      "```diff\n",
      "--- src/app/project-section/project-section.component.ts\n",
      "+++ src/app/project-section/project-section.component.ts\n",
      "@@ -82,5 +82,16 @@\n",
      "       skills: [\n",
      "         'Next.js',\n",
      "         'ChakraUI',\n",
      "         'Blockchain',\n",
      "         'MongoDB',\n",
      "-        'React.js',        'Node.js',        'Javascript',      ],      linkIconSrc: 'assets/images/linkIcon.png',      link: 'https://tawsifcoin.vercel.app/',    },  ];}}\n",
      "\\ No newline at end of file\n",
      "+        'React.js',\n",
      "+        'Node.js',\n",
      "+        'Javascript',\n",
      "+      ],\n",
      "+      linkIconSrc: 'assets/images/linkIcon.png',\n",
      "+      link: 'https://tawsifcoin.vercel.app/',\n",
      "+    },\n",
      "+    {\n",
      "+      name: 'Tiny Gen',\n",
      "+      description: 'An application that can add code to a repository given a user prompt. You give a repoUrl and the prompt, Tiny Gen is able to locate the file to modify and modifies it! It then returns a unified diff showing the correct changes.',\n",
      "+      imageUrl: 'assets/images/tinyGenThumbnail.png',\n",
      "+      skills: ['AI', 'Machine Learning', 'Software Development', 'Automation'],\n",
      "+      linkIconSrc: 'assets/images/linkIcon.png',\n",
      "+      link: 'https://tinygen.example.com',\n",
      "+      prize: 'Innovative Project Award'\n",
      "+    }\n",
      "+  ];\n",
      "+}\n",
      "```\n"
     ]
    }
   ],
   "source": [
    "from tiny_gen_one import TinyGenOne\n",
    "\n",
    "tiny_gen = TinyGenOne()\n",
    "result = tiny_gen.call(repoUrl=repo_url, prompt=prompt)\n",
    "print(result)"
   ]
  },
  {
   "cell_type": "markdown",
   "metadata": {},
   "source": [
    "### Tiny Gen 2.0: Works for Repos longer than LLM Context\n",
    "1. **Summary Chain** --> summarize all files\n",
    "\n",
    "2. **Identify Relevant Files Chain** --> given a summary of each file, identify relevant files to the user prompt \n",
    "\n",
    "3. **Code Conversion Chain** -> Given the prompt and summaries of files, generate the code to address the prompt\n",
    "\n",
    "4. **Generate Diff Chain** -> Generate the diff from the modified code versus the original file\n",
    "\n",
    "5. **Reflection Chain** -> Given the generated diff, check that the diff is correct and return a new diff if incorrect"
   ]
  },
  {
   "cell_type": "code",
   "execution_count": 221,
   "metadata": {},
   "outputs": [
    {
     "name": "stdout",
     "output_type": "stream",
     "text": [
      "CURRENT RATE LIMIT FOR GITHUB API CALLS >>>>>>>>>>> {'resources': {'core': {'limit': 5000, 'used': 153, 'remaining': 4847, 'reset': 1709419058}, 'search': {'limit': 30, 'used': 0, 'remaining': 30, 'reset': 1709417627}, 'graphql': {'limit': 5000, 'used': 0, 'remaining': 5000, 'reset': 1709421167}, 'integration_manifest': {'limit': 5000, 'used': 0, 'remaining': 5000, 'reset': 1709421167}, 'source_import': {'limit': 100, 'used': 0, 'remaining': 100, 'reset': 1709417627}, 'code_scanning_upload': {'limit': 1000, 'used': 0, 'remaining': 1000, 'reset': 1709421167}, 'actions_runner_registration': {'limit': 10000, 'used': 0, 'remaining': 10000, 'reset': 1709421167}, 'scim': {'limit': 15000, 'used': 0, 'remaining': 15000, 'reset': 1709421167}, 'dependency_snapshots': {'limit': 100, 'used': 0, 'remaining': 100, 'reset': 1709417627}, 'audit_log': {'limit': 1750, 'used': 0, 'remaining': 1750, 'reset': 1709421167}, 'code_search': {'limit': 10, 'used': 0, 'remaining': 10, 'reset': 1709417627}}, 'rate': {'limit': 5000, 'used': 153, 'remaining': 4847, 'reset': 1709419058}}\n",
      "```diff\n",
      "--- src/main.py\n",
      "+++ src/main.py\n",
      "@@ -1,5 +1,6 @@\n",
      " import os\n",
      " import sys\n",
      "+import platform\n",
      " from colorama import Fore\n",
      " from halo import Halo\n",
      " import requests\n",
      "@@ -11,8 +12,11 @@\n",
      "     \"\"\"Uses highlighting from your native cat; I use bat, a cat alternative\"\"\"\n",
      "     with open('temp.sh', 'w') as f:\n",
      "         f.write(prompt)\n",
      "-    os.system('bat temp.sh')\n",
      "+    if platform.system() == 'Windows':\n",
      "+        os.system('type temp.sh')\n",
      "+    else:\n",
      "+        os.system('bat temp.sh')\n",
      "     os.remove('temp.sh')\n",
      " \n",
      " def run_bash_file_from_string(s: str):\n",
      "@@ -20,7 +24,11 @@\n",
      "     with open('temp.sh', 'w') as f:\n",
      "         f.write(s)\n",
      "-    os.system('bash temp.sh')\n",
      "+    if platform.system() == 'Windows':\n",
      "+        os.system('cmd /c ' + s)\n",
      "+    else:\n",
      "+        os.system('bash temp.sh')\n",
      "     os.remove('temp.sh')\n",
      "```\n"
     ]
    }
   ],
   "source": [
    "from tiny_gen_two import TinyGenTwo\n",
    "\n",
    "tiny_gen = TinyGenTwo()\n",
    "result = tiny_gen.call(repoUrl=repo_url, prompt=prompt)\n",
    "print(result)"
   ]
  },
  {
   "cell_type": "markdown",
   "metadata": {},
   "source": [
    "# Idea for Tiny Gen 3.0\n",
    "### 3. Tiny Gen 3.0 Works for Repos longer than LLM Context + Modifying More Than One File\n",
    " 1. **Summary Chain** --> summarize all files \n",
    "\n",
    " 2. **Identify Relevant Files Chain** --> given a summary of each file, identify relevant files to the user prompt\n",
    "\n",
    " 3. **Breakdown Task Chain** --> given the readme, relevant files, and user query, breakdown the user prompt into smaller tasks\n",
    "\n",
    " 4. **Code Conversion Chain** --> For each task, generate the corresponding code changes to fulfill the task\n",
    "\n",
    " 4. **Generate Diffs Chain** --> For each code change, generate the associated diff from the original file and modified file\n",
    " \n",
    " 5. **Reflection Chain** --> For each generated diff, check if it's correct! If not, regenerate and output the new one. If correct, output the original one\n",
    " "
   ]
  }
 ],
 "metadata": {
  "kernelspec": {
   "display_name": "tinyGen",
   "language": "python",
   "name": "python3"
  },
  "language_info": {
   "codemirror_mode": {
    "name": "ipython",
    "version": 3
   },
   "file_extension": ".py",
   "mimetype": "text/x-python",
   "name": "python",
   "nbconvert_exporter": "python",
   "pygments_lexer": "ipython3",
   "version": "3.11.0"
  }
 },
 "nbformat": 4,
 "nbformat_minor": 2
}
